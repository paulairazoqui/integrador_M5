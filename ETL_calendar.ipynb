{
 "cells": [
  {
   "cell_type": "code",
   "execution_count": 1,
   "metadata": {},
   "outputs": [],
   "source": [
    "import pandas as pd"
   ]
  },
  {
   "cell_type": "code",
   "execution_count": 2,
   "metadata": {},
   "outputs": [
    {
     "data": {
      "text/html": [
       "<div>\n",
       "<style scoped>\n",
       "    .dataframe tbody tr th:only-of-type {\n",
       "        vertical-align: middle;\n",
       "    }\n",
       "\n",
       "    .dataframe tbody tr th {\n",
       "        vertical-align: top;\n",
       "    }\n",
       "\n",
       "    .dataframe thead th {\n",
       "        text-align: right;\n",
       "    }\n",
       "</style>\n",
       "<table border=\"1\" class=\"dataframe\">\n",
       "  <thead>\n",
       "    <tr style=\"text-align: right;\">\n",
       "      <th></th>\n",
       "      <th>listing_id</th>\n",
       "      <th>date</th>\n",
       "      <th>available</th>\n",
       "      <th>price</th>\n",
       "      <th>adjusted_price</th>\n",
       "      <th>minimum_nights</th>\n",
       "      <th>maximum_nights</th>\n",
       "    </tr>\n",
       "  </thead>\n",
       "  <tbody>\n",
       "    <tr>\n",
       "      <th>0</th>\n",
       "      <td>50778</td>\n",
       "      <td>2020-04-26</td>\n",
       "      <td>f</td>\n",
       "      <td>$2,655.00</td>\n",
       "      <td>$2,655.00</td>\n",
       "      <td>5.0</td>\n",
       "      <td>1125.0</td>\n",
       "    </tr>\n",
       "    <tr>\n",
       "      <th>1</th>\n",
       "      <td>133654</td>\n",
       "      <td>2020-04-27</td>\n",
       "      <td>t</td>\n",
       "      <td>$1,150.00</td>\n",
       "      <td>$1,150.00</td>\n",
       "      <td>4.0</td>\n",
       "      <td>1125.0</td>\n",
       "    </tr>\n",
       "    <tr>\n",
       "      <th>2</th>\n",
       "      <td>133654</td>\n",
       "      <td>2020-04-28</td>\n",
       "      <td>t</td>\n",
       "      <td>$1,150.00</td>\n",
       "      <td>$1,150.00</td>\n",
       "      <td>4.0</td>\n",
       "      <td>1125.0</td>\n",
       "    </tr>\n",
       "    <tr>\n",
       "      <th>3</th>\n",
       "      <td>133654</td>\n",
       "      <td>2020-04-29</td>\n",
       "      <td>t</td>\n",
       "      <td>$1,150.00</td>\n",
       "      <td>$1,150.00</td>\n",
       "      <td>4.0</td>\n",
       "      <td>1125.0</td>\n",
       "    </tr>\n",
       "    <tr>\n",
       "      <th>4</th>\n",
       "      <td>133654</td>\n",
       "      <td>2020-04-30</td>\n",
       "      <td>t</td>\n",
       "      <td>$1,150.00</td>\n",
       "      <td>$1,150.00</td>\n",
       "      <td>4.0</td>\n",
       "      <td>1125.0</td>\n",
       "    </tr>\n",
       "  </tbody>\n",
       "</table>\n",
       "</div>"
      ],
      "text/plain": [
       "   listing_id        date available      price adjusted_price  minimum_nights  \\\n",
       "0       50778  2020-04-26         f  $2,655.00      $2,655.00             5.0   \n",
       "1      133654  2020-04-27         t  $1,150.00      $1,150.00             4.0   \n",
       "2      133654  2020-04-28         t  $1,150.00      $1,150.00             4.0   \n",
       "3      133654  2020-04-29         t  $1,150.00      $1,150.00             4.0   \n",
       "4      133654  2020-04-30         t  $1,150.00      $1,150.00             4.0   \n",
       "\n",
       "   maximum_nights  \n",
       "0          1125.0  \n",
       "1          1125.0  \n",
       "2          1125.0  \n",
       "3          1125.0  \n",
       "4          1125.0  "
      ]
     },
     "execution_count": 2,
     "metadata": {},
     "output_type": "execute_result"
    }
   ],
   "source": [
    "calendar = pd.read_csv(r'C:\\Users\\paula\\OneDrive\\Curso\\Henry\\M5\\Proyecto Integrador\\2 AirBnB\\calendar.csv')\n",
    "calendar.head()"
   ]
  },
  {
   "cell_type": "code",
   "execution_count": 3,
   "metadata": {},
   "outputs": [
    {
     "data": {
      "text/html": [
       "<div>\n",
       "<style scoped>\n",
       "    .dataframe tbody tr th:only-of-type {\n",
       "        vertical-align: middle;\n",
       "    }\n",
       "\n",
       "    .dataframe tbody tr th {\n",
       "        vertical-align: top;\n",
       "    }\n",
       "\n",
       "    .dataframe thead th {\n",
       "        text-align: right;\n",
       "    }\n",
       "</style>\n",
       "<table border=\"1\" class=\"dataframe\">\n",
       "  <thead>\n",
       "    <tr style=\"text-align: right;\">\n",
       "      <th></th>\n",
       "      <th>listing_id</th>\n",
       "      <th>date</th>\n",
       "      <th>available</th>\n",
       "      <th>price</th>\n",
       "      <th>adjusted_price</th>\n",
       "      <th>minimum_nights</th>\n",
       "      <th>maximum_nights</th>\n",
       "    </tr>\n",
       "  </thead>\n",
       "  <tbody>\n",
       "    <tr>\n",
       "      <th>0</th>\n",
       "      <td>50778</td>\n",
       "      <td>2020-04-26</td>\n",
       "      <td>f</td>\n",
       "      <td>2655.0</td>\n",
       "      <td>2655.0</td>\n",
       "      <td>5.0</td>\n",
       "      <td>1125.0</td>\n",
       "    </tr>\n",
       "    <tr>\n",
       "      <th>1</th>\n",
       "      <td>133654</td>\n",
       "      <td>2020-04-27</td>\n",
       "      <td>t</td>\n",
       "      <td>1150.0</td>\n",
       "      <td>1150.0</td>\n",
       "      <td>4.0</td>\n",
       "      <td>1125.0</td>\n",
       "    </tr>\n",
       "    <tr>\n",
       "      <th>2</th>\n",
       "      <td>133654</td>\n",
       "      <td>2020-04-28</td>\n",
       "      <td>t</td>\n",
       "      <td>1150.0</td>\n",
       "      <td>1150.0</td>\n",
       "      <td>4.0</td>\n",
       "      <td>1125.0</td>\n",
       "    </tr>\n",
       "    <tr>\n",
       "      <th>3</th>\n",
       "      <td>133654</td>\n",
       "      <td>2020-04-29</td>\n",
       "      <td>t</td>\n",
       "      <td>1150.0</td>\n",
       "      <td>1150.0</td>\n",
       "      <td>4.0</td>\n",
       "      <td>1125.0</td>\n",
       "    </tr>\n",
       "    <tr>\n",
       "      <th>4</th>\n",
       "      <td>133654</td>\n",
       "      <td>2020-04-30</td>\n",
       "      <td>t</td>\n",
       "      <td>1150.0</td>\n",
       "      <td>1150.0</td>\n",
       "      <td>4.0</td>\n",
       "      <td>1125.0</td>\n",
       "    </tr>\n",
       "  </tbody>\n",
       "</table>\n",
       "</div>"
      ],
      "text/plain": [
       "   listing_id        date available   price  adjusted_price  minimum_nights  \\\n",
       "0       50778  2020-04-26         f  2655.0          2655.0             5.0   \n",
       "1      133654  2020-04-27         t  1150.0          1150.0             4.0   \n",
       "2      133654  2020-04-28         t  1150.0          1150.0             4.0   \n",
       "3      133654  2020-04-29         t  1150.0          1150.0             4.0   \n",
       "4      133654  2020-04-30         t  1150.0          1150.0             4.0   \n",
       "\n",
       "   maximum_nights  \n",
       "0          1125.0  \n",
       "1          1125.0  \n",
       "2          1125.0  \n",
       "3          1125.0  \n",
       "4          1125.0  "
      ]
     },
     "execution_count": 3,
     "metadata": {},
     "output_type": "execute_result"
    }
   ],
   "source": [
    "# Remover el símbolo de moneda y las comas, luego convertir a float\n",
    "calendar['price'] = calendar['price'].replace('[\\$,]', '', regex=True).astype(float)\n",
    "calendar['adjusted_price'] = calendar['adjusted_price'].replace('[\\$,]', '', regex=True).astype(float)\n",
    "\n",
    "calendar.head()"
   ]
  },
  {
   "cell_type": "code",
   "execution_count": 4,
   "metadata": {},
   "outputs": [
    {
     "name": "stdout",
     "output_type": "stream",
     "text": [
      "listing_id          int64\n",
      "date               object\n",
      "available          object\n",
      "price             float64\n",
      "adjusted_price    float64\n",
      "minimum_nights    float64\n",
      "maximum_nights    float64\n",
      "dtype: object\n"
     ]
    }
   ],
   "source": [
    "print(calendar[['listing_id', 'date', 'available', 'price', 'adjusted_price', 'minimum_nights', 'maximum_nights']].dtypes)"
   ]
  },
  {
   "cell_type": "code",
   "execution_count": 5,
   "metadata": {},
   "outputs": [
    {
     "name": "stdout",
     "output_type": "stream",
     "text": [
      "listing_id          int64\n",
      "date               object\n",
      "available            bool\n",
      "price             float64\n",
      "adjusted_price    float64\n",
      "minimum_nights    float64\n",
      "maximum_nights    float64\n",
      "dtype: object\n"
     ]
    }
   ],
   "source": [
    "calendar['available'] = calendar['available'].astype(bool)\n",
    "\n",
    "print(calendar[['listing_id', 'date', 'available', 'price', 'adjusted_price', 'minimum_nights', 'maximum_nights']].dtypes)"
   ]
  },
  {
   "cell_type": "code",
   "execution_count": 6,
   "metadata": {},
   "outputs": [],
   "source": [
    "calendar.to_csv('calendar_transformed.csv', index=False, decimal=',')"
   ]
  }
 ],
 "metadata": {
  "kernelspec": {
   "display_name": "Python 3",
   "language": "python",
   "name": "python3"
  },
  "language_info": {
   "codemirror_mode": {
    "name": "ipython",
    "version": 3
   },
   "file_extension": ".py",
   "mimetype": "text/x-python",
   "name": "python",
   "nbconvert_exporter": "python",
   "pygments_lexer": "ipython3",
   "version": "3.10.5"
  }
 },
 "nbformat": 4,
 "nbformat_minor": 2
}
